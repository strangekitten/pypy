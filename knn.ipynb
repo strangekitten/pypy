{
 "cells": [
  {
   "cell_type": "code",
   "execution_count": 1,
   "metadata": {},
   "outputs": [],
   "source": [
    "from sklearn.datasets import fetch_openml\n",
    "mnist=fetch_openml(\"mnist_784\")"
   ]
  },
  {
   "cell_type": "code",
   "execution_count": 2,
   "metadata": {},
   "outputs": [],
   "source": [
    "def euclidean_distance(X, Y):\n",
    "    tmp1 = np.sum(X**2, axis=1)\n",
    "    tmp2 = np.sum(Y**2, axis=1)\n",
    "    rr = tmp1[:, np.newaxis] - 2 * np.dot(X, Y.T) + tmp2[:, np.newaxis].T\n",
    "    rr = np.maximum(rr, 0)\n",
    "    return (rr)**0.5\n",
    "def cosine_distance(X, Y):\n",
    "    tmp1 = (np.sum(X**2, axis=1))**0.5\n",
    "    tmp2 = (np.sum(Y**2, axis=1))**0.5\n",
    "    return 1 - np.dot(X, Y.T)/(tmp1[:, np.newaxis] * tmp2[:, np.newaxis].T + 1e-5)\n",
    "    \n",
    "    "
   ]
  },
  {
   "cell_type": "code",
   "execution_count": 3,
   "metadata": {},
   "outputs": [],
   "source": [
    "import numpy as np\n",
    "import sklearn\n",
    "from sklearn.neighbors import NearestNeighbors\n",
    "\n",
    "\n",
    "class KNNClassifier:\n",
    "    def __init__(self, k, strategy, metric, weights, test_block_size):\n",
    "        self.k = k\n",
    "        self.strategy = strategy\n",
    "        self.metric = metric\n",
    "        self.weights = weights\n",
    "        self.block = test_block_size\n",
    "        \n",
    "    def fit(self, X, y):\n",
    "        self.y = np.copy(y).astype(int)\n",
    "        if self.strategy == 'my_own':\n",
    "            self.X = np.copy(X)\n",
    "        else:\n",
    "            self.model = sklearn.neighbors.NearestNeighbors(algorithm=self.strategy, n_neighbors=self.k,\n",
    "                                                            metric=self.metric).fit(X, y)        \n",
    "    def find_kneighbors(self, X, return_distance):\n",
    "        if self.strategy != 'my_own':\n",
    "            return self.model.kneighbors(X, return_distance=return_distance)\n",
    "        if self.metric == 'euclidean':\n",
    "            dist = euclidean_distance(X, self.X)\n",
    "        elif self.metric == 'cosine':\n",
    "            dist = cosine_distance(X, self.X)\n",
    "        sort_dist = np.sort(dist, axis=1)[:, :self.k]\n",
    "        sort_ind = np.argsort(dist, axis=1)[:, :self.k]\n",
    "        if return_distance:\n",
    "            return sort_dist, sort_ind.astype(int)\n",
    "        return sort_ind.astype(int) \n",
    "    \n",
    "    def predict(self, X):\n",
    "        eps = 1e-5\n",
    "        res = np.array([])\n",
    "        for j in range((X.shape[0] - 1) // self.block + 1):\n",
    "            dist, ind = self.find_kneighbors(X[j * self.block : (j + 1) * self.block], return_distance=True)\n",
    "            weights = np.ones_like(dist, dtype=float)\n",
    "            if self.weights:\n",
    "                    weights = 1 / (dist + eps)\n",
    "            for r in range(ind.shape[0]):\n",
    "                res = np.append(res, np.bincount(self.y[ind[r]], weights=weights[r]).argmax())            \n",
    "        return res.astype(int)\n",
    " \n",
    "      "
   ]
  },
  {
   "cell_type": "code",
   "execution_count": 4,
   "metadata": {},
   "outputs": [],
   "source": [
    "import random\n",
    "import numpy as np\n",
    "from sklearn.model_selection import StratifiedKFold\n",
    "\n",
    "    \n",
    "def kfold(n, n_folds):\n",
    "    ind = np.arange(n)\n",
    "    random.shuffle(ind)\n",
    "    res_list = []\n",
    "    size = n // n_folds\n",
    "    num_add_size = n % n_folds\n",
    "    left = 0\n",
    "    right = 0\n",
    "    for i in range(n_folds):\n",
    "        if (i < num_add_size):\n",
    "            right += size + 1\n",
    "            test = ind[left: right]\n",
    "            train = np.append(ind[:left], ind[right:])      \n",
    "        else:\n",
    "            right += size\n",
    "            test = ind[left: right]\n",
    "            train = np.append(ind[:left], ind[right:])\n",
    "        left = right    \n",
    "        res_list.append((train, test))\n",
    "    return res_list\n",
    "\n",
    "def accuracy(y, z):\n",
    "    return np.equal(y, z).astype(int).sum() / len(y)\n",
    "\n",
    "def cross_predict(dist, ind, y, w):\n",
    "    res = np.array([])\n",
    "    eps = 1e-5\n",
    "    weights = np.ones_like(dist, dtype=float)\n",
    "    if w:\n",
    "        weights = 1 / (dist + eps)\n",
    "    for r in range(ind.shape[0]):\n",
    "        res = np.append(res, np.bincount(y[ind[r]], weights[r]).argmax())\n",
    "    return res.astype(int)\n",
    "    \n",
    "def knn_cross_val_score(X, y, k_list, score, cv, **kwargs): \n",
    "    if cv is None:\n",
    "        cv = kfold(len(y), 3)\n",
    "    res = {}\n",
    "    for k in k_list:\n",
    "        res[k] = np.array([])\n",
    "    for train, test in cv:\n",
    "        knn_obj = KNNClassifier(k_list[-1], **kwargs)\n",
    "        knn_obj.fit(X[train], y[train])\n",
    "        dist, ind  = knn_obj.find_kneighbors(X[test], True)\n",
    "        for k in k_list:\n",
    "            res[k] = np.append(res[k], accuracy(y[test], cross_predict(dist[:, :k], ind[:, :k], y[train],\n",
    "                                                                       knn_obj.weights)))\n",
    "    return res\n",
    "\n",
    "    "
   ]
  },
  {
   "cell_type": "code",
   "execution_count": 5,
   "metadata": {},
   "outputs": [],
   "source": [
    "X = mnist.data / 255\n",
    "y = mnist.target.astype(int)"
   ]
  },
  {
   "cell_type": "code",
   "execution_count": 6,
   "metadata": {},
   "outputs": [],
   "source": [
    "trainX = X[:60000]\n",
    "trainy = y[:60000]\n",
    "testX = X[60000:]\n",
    "testy = y[60000:]"
   ]
  },
  {
   "cell_type": "code",
   "execution_count": 169,
   "metadata": {},
   "outputs": [],
   "source": [
    "time_my_own = {}\n",
    "time_brute = {}\n",
    "time_kd_tree = {}\n",
    "time_ball_tree = {}"
   ]
  },
  {
   "cell_type": "code",
   "execution_count": 7,
   "metadata": {},
   "outputs": [],
   "source": [
    "import time"
   ]
  },
  {
   "cell_type": "code",
   "execution_count": 22,
   "metadata": {},
   "outputs": [],
   "source": [
    "features = random.sample(list(range(X.shape[1])), 100)"
   ]
  },
  {
   "cell_type": "code",
   "execution_count": 242,
   "metadata": {},
   "outputs": [
    {
     "name": "stdout",
     "output_type": "stream",
     "text": [
      "CPU times: user 1min 52s, sys: 2.45 s, total: 1min 54s\n",
      "Wall time: 1min 32s\n"
     ]
    }
   ],
   "source": [
    "%%time\n",
    "a = KNNClassifier(k=5, strategy = \"my_own\", metric=\"euclidean\", weights=False, test_block_size=100)\n",
    "a.fit(trainX[:, features], trainy)\n",
    "begin = time.time()\n",
    "test_block = 100\n",
    "for j in range((testX.shape[0] - 1) // test_block + 1):\n",
    "    a.find_kneighbors(testX[j * test_block : (j + 1) * test_block, features], False)\n",
    "a.find_kneighbors(testX[:test_block, features], False)\n",
    "end = time.time()\n",
    "time_my_own['100'] = end - begin"
   ]
  },
  {
   "cell_type": "code",
   "execution_count": 8,
   "metadata": {},
   "outputs": [],
   "source": [
    "import pandas as pd"
   ]
  },
  {
   "cell_type": "code",
   "execution_count": 258,
   "metadata": {},
   "outputs": [],
   "source": [
    "\n",
    "data = [[\"my_own\", 10, time_my_own[\"10\"]], [\"my_own\", 20, time_my_own[\"20\"]], [\"my_own\", 100, time_my_own[\"100\"]],\n",
    "       [\"brute\", 10, time_brute[\"10\"]], [\"brute\", 20, time_brute[\"20\"]], [\"brute\", 100, time_brute[\"100\"]],\n",
    "       [\"kd_tree\", 10, time_kd_tree[\"10\"]], [\"kd_tree\", 20, time_kd_tree[\"20\"]], [\"kd_tree\", 100, time_kd_tree[\"100\"]],\n",
    "       [\"ball_tree\", 10, time_ball_tree[\"10\"]], [\"ball_tree\", 20, time_ball_tree[\"20\"]], \n",
    "        [\"ball_tree\", 100, time_ball_tree[\"100\"]]]\n",
    "pd.DataFrame(data, columns=[\"algorithm\", \"number of features\", \"time\"])"
   ]
  },
  {
   "cell_type": "code",
   "execution_count": 38,
   "metadata": {},
   "outputs": [],
   "source": [
    "data1 = []\n",
    "res = knn_cross_val_score(trainX, trainy, list(range(1, 11)), \"accuracy\", None, strategy = \"brute\", \n",
    "                          metric=\"cosine\", weights=True, test_block_size=100)\n",
    "for key in res.keys():\n",
    "    data1.append([key, np.mean(res[key])])\n"
   ]
  },
  {
   "cell_type": "code",
   "execution_count": 39,
   "metadata": {},
   "outputs": [
    {
     "data": {
      "text/html": [
       "<div>\n",
       "<style scoped>\n",
       "    .dataframe tbody tr th:only-of-type {\n",
       "        vertical-align: middle;\n",
       "    }\n",
       "\n",
       "    .dataframe tbody tr th {\n",
       "        vertical-align: top;\n",
       "    }\n",
       "\n",
       "    .dataframe thead th {\n",
       "        text-align: right;\n",
       "    }\n",
       "</style>\n",
       "<table border=\"1\" class=\"dataframe\">\n",
       "  <thead>\n",
       "    <tr style=\"text-align: right;\">\n",
       "      <th></th>\n",
       "      <th>k</th>\n",
       "      <th>cosine</th>\n",
       "    </tr>\n",
       "  </thead>\n",
       "  <tbody>\n",
       "    <tr>\n",
       "      <th>0</th>\n",
       "      <td>1</td>\n",
       "      <td>0.973200</td>\n",
       "    </tr>\n",
       "    <tr>\n",
       "      <th>1</th>\n",
       "      <td>2</td>\n",
       "      <td>0.973200</td>\n",
       "    </tr>\n",
       "    <tr>\n",
       "      <th>2</th>\n",
       "      <td>3</td>\n",
       "      <td>0.974517</td>\n",
       "    </tr>\n",
       "    <tr>\n",
       "      <th>3</th>\n",
       "      <td>4</td>\n",
       "      <td>0.975150</td>\n",
       "    </tr>\n",
       "    <tr>\n",
       "      <th>4</th>\n",
       "      <td>5</td>\n",
       "      <td>0.973950</td>\n",
       "    </tr>\n",
       "    <tr>\n",
       "      <th>5</th>\n",
       "      <td>6</td>\n",
       "      <td>0.974133</td>\n",
       "    </tr>\n",
       "    <tr>\n",
       "      <th>6</th>\n",
       "      <td>7</td>\n",
       "      <td>0.971917</td>\n",
       "    </tr>\n",
       "    <tr>\n",
       "      <th>7</th>\n",
       "      <td>8</td>\n",
       "      <td>0.972450</td>\n",
       "    </tr>\n",
       "    <tr>\n",
       "      <th>8</th>\n",
       "      <td>9</td>\n",
       "      <td>0.970733</td>\n",
       "    </tr>\n",
       "    <tr>\n",
       "      <th>9</th>\n",
       "      <td>10</td>\n",
       "      <td>0.971233</td>\n",
       "    </tr>\n",
       "  </tbody>\n",
       "</table>\n",
       "</div>"
      ],
      "text/plain": [
       "    k    cosine\n",
       "0   1  0.973200\n",
       "1   2  0.973200\n",
       "2   3  0.974517\n",
       "3   4  0.975150\n",
       "4   5  0.973950\n",
       "5   6  0.974133\n",
       "6   7  0.971917\n",
       "7   8  0.972450\n",
       "8   9  0.970733\n",
       "9  10  0.971233"
      ]
     },
     "execution_count": 39,
     "metadata": {},
     "output_type": "execute_result"
    }
   ],
   "source": [
    "df = pd.DataFrame(data1, columns=[\"k\", \"cosine\"])\n",
    "df"
   ]
  },
  {
   "cell_type": "code",
   "execution_count": 42,
   "metadata": {},
   "outputs": [],
   "source": [
    "data2 = []\n",
    "for metric in [\"euclidean\", \"cosine\"]:\n",
    "    begin = time.time()\n",
    "    res = knn_cross_val_score(trainX, trainy, [10], \"accuracy\", None, strategy = \"brute\", \n",
    "                          metric=metric, weights=True, test_block_size=100)\n",
    "    end = time.time()\n",
    "    for val in res:\n",
    "        data2.append([metric, np.mean(res[val]), end - begin])"
   ]
  },
  {
   "cell_type": "code",
   "execution_count": 43,
   "metadata": {},
   "outputs": [
    {
     "data": {
      "text/plain": [
       "[['euclidean', 0.9667666666666667, 90.0689971446991],\n",
       " ['cosine', 0.9713166666666666, 86.09545612335205]]"
      ]
     },
     "execution_count": 43,
     "metadata": {},
     "output_type": "execute_result"
    }
   ],
   "source": [
    "data2"
   ]
  },
  {
   "cell_type": "code",
   "execution_count": 46,
   "metadata": {},
   "outputs": [],
   "source": [
    "df = pd.DataFrame(data2, columns=[\"metric\", \"accuracy\", \"time\"])\n",
    "df.to_csv(\"test2b\")"
   ]
  },
  {
   "cell_type": "code",
   "execution_count": 38,
   "metadata": {},
   "outputs": [],
   "source": [
    "cv = kfold(len(trainy), 3)\n",
    "data3 = []"
   ]
  },
  {
   "cell_type": "code",
   "execution_count": 39,
   "metadata": {},
   "outputs": [],
   "source": [
    "for w in [True, False]:\n",
    "    res = knn_cross_val_score(trainX, trainy, list(range(1, 11)), \"accuracy\", cv, strategy = \"brute\", \n",
    "                          metric=\"cosine\", weights=w, test_block_size=100)\n",
    "    for key in res.keys():\n",
    "        data3.append([w, key, np.mean(res[key])])"
   ]
  },
  {
   "cell_type": "code",
   "execution_count": 41,
   "metadata": {},
   "outputs": [],
   "source": [
    "df = pd.DataFrame(data3, columns=[\"weights\", \"k\", \"accuracy\"])\n",
    "df.to_csv(\"test3.csv\")"
   ]
  },
  {
   "cell_type": "markdown",
   "metadata": {},
   "source": [
    "Лучший - brute, cosine"
   ]
  },
  {
   "cell_type": "code",
   "execution_count": 9,
   "metadata": {},
   "outputs": [],
   "source": [
    "a = KNNClassifier(k=4, strategy=\"brute\", metric=\"cosine\", weights=True, test_block_size=100)\n",
    "a.fit(trainX, trainy)\n",
    "pred = a.predict(testX)"
   ]
  },
  {
   "cell_type": "code",
   "execution_count": 10,
   "metadata": {},
   "outputs": [
    {
     "data": {
      "text/plain": [
       "0.9752"
      ]
     },
     "execution_count": 10,
     "metadata": {},
     "output_type": "execute_result"
    }
   ],
   "source": [
    "accuracy(pred, testy)"
   ]
  },
  {
   "cell_type": "code",
   "execution_count": 11,
   "metadata": {},
   "outputs": [],
   "source": [
    "import matplotlib.pyplot as plt"
   ]
  },
  {
   "cell_type": "code",
   "execution_count": 22,
   "metadata": {},
   "outputs": [],
   "source": [
    "mask = np.where(pred != testy)[0]\n",
    "diff_ind = random.sample(list(mask), 6)"
   ]
  },
  {
   "cell_type": "code",
   "execution_count": 23,
   "metadata": {},
   "outputs": [
    {
     "data": {
      "image/png": "[encoded data removed]",
      "text/plain": [
       "<Figure size 648x648 with 6 Axes>"
      ]
     },
     "metadata": {
      "needs_background": "light"
     },
     "output_type": "display_data"
    }
   ],
   "source": [
    "f = plt.figure(figsize=(9, 9))\n",
    "for i, k in enumerate(diff_ind):   \n",
    "    plt.subplot(2, 3, i + 1)\n",
    "    plt.axis(\"Off\")\n",
    "    plt.imshow(testX[k].reshape(28, -1), cmap=\"Greys\")\n",
    "    plt.title(\"real - \" + str(testy[k]) +  \", predict - \" + str(pred[k]))\n",
    "    \n"
   ]
  },
  {
   "cell_type": "code",
   "execution_count": 24,
   "metadata": {},
   "outputs": [],
   "source": [
    "f.savefig(\"lala.png\")"
   ]
  },
  {
   "cell_type": "code",
   "execution_count": 22,
   "metadata": {},
   "outputs": [],
   "source": [
    "from sklearn.metrics import confusion_matrix"
   ]
  },
  {
   "cell_type": "code",
   "execution_count": 41,
   "metadata": {},
   "outputs": [],
   "source": [
    "def plot_confusion_matrix(y_true, y_pred, classes,\n",
    "                          normalize=False,\n",
    "                          title=None,\n",
    "                          cmap=plt.cm.Blues):\n",
    "    \"\"\"\n",
    "    This function prints and plots the confusion matrix.\n",
    "    Normalization can be applied by setting `normalize=True`.\n",
    "    \"\"\"\n",
    "    if not title:\n",
    "        if normalize:\n",
    "            title = 'Normalized confusion matrix'\n",
    "        else:\n",
    "            title = 'Матрица ошибок'\n",
    "\n",
    "    # Compute confusion matrix\n",
    "    cm = confusion_matrix(y_true, y_pred)\n",
    "    # Only use the labels that appear in the data\n",
    "    classes = classes[unique_labels(y_true, y_pred)]\n",
    "    if normalize:\n",
    "        cm = cm.astype('float') / cm.sum(axis=1)[:, np.newaxis]\n",
    "        print(\"Normalized confusion matrix\")\n",
    "    else:\n",
    "        print('Матрица ошибок')\n",
    "\n",
    "    print(cm)\n",
    "\n",
    "    fig, ax = plt.subplots()\n",
    "    im = ax.imshow(cm, interpolation='nearest', cmap=cmap)\n",
    "    ax.figure.colorbar(im, ax=ax)\n",
    "    # We want to show all ticks...\n",
    "    ax.set(xticks=np.arange(cm.shape[1]),\n",
    "           yticks=np.arange(cm.shape[0]),\n",
    "           # ... and label them with the respective list entries\n",
    "           xticklabels=classes, yticklabels=classes,\n",
    "           title=title,\n",
    "           ylabel='Истинный класс',\n",
    "           xlabel='Предсказанный класс')\n",
    "\n",
    "    # Rotate the tick labels and set their alignment.\n",
    "    plt.setp(ax.get_xticklabels(), rotation=45, ha=\"right\",\n",
    "             rotation_mode=\"anchor\")\n",
    "\n",
    "    # Loop over data dimensions and create text annotations.\n",
    "    fmt = '.2f' if normalize else 'd'\n",
    "    thresh = cm.max() / 2.\n",
    "    for i in range(cm.shape[0]):\n",
    "        for j in range(cm.shape[1]):\n",
    "            ax.text(j, i, format(cm[i, j], fmt),\n",
    "                    ha=\"center\", va=\"center\",\n",
    "                    color=\"white\" if cm[i, j] > thresh else \"black\")\n",
    "    fig.tight_layout()\n",
    "    fig.savefig(\"conf_mat1.pdf\")\n",
    "    return ax"
   ]
  },
  {
   "cell_type": "code",
   "execution_count": 39,
   "metadata": {},
   "outputs": [
    {
     "data": {
      "text/plain": [
       "array([[ 977,    1,    0,    0,    0,    0,    1,    1,    0,    0],\n",
       "       [   0, 1129,    3,    1,    0,    0,    2,    0,    0,    0],\n",
       "       [   8,    0, 1009,    1,    1,    0,    0,    8,    5,    0],\n",
       "       [   0,    1,    3,  976,    1,   12,    0,    4,    9,    4],\n",
       "       [   2,    1,    0,    0,  946,    0,    6,    2,    0,   25],\n",
       "       [   4,    0,    0,    9,    1,  863,    7,    1,    4,    3],\n",
       "       [   3,    3,    0,    0,    1,    3,  948,    0,    0,    0],\n",
       "       [   2,   10,    4,    0,    1,    0,    0,  998,    0,   13],\n",
       "       [   7,    1,    2,    9,    3,    3,    5,    4,  936,    4],\n",
       "       [   7,    7,    2,    5,    7,    3,    1,    4,    3,  970]])"
      ]
     },
     "execution_count": 39,
     "metadata": {},
     "output_type": "execute_result"
    }
   ],
   "source": [
    "cm = confusion_matrix(testy, pred, labels=list(range(10)))\n",
    "cm"
   ]
  },
  {
   "cell_type": "code",
   "execution_count": 21,
   "metadata": {},
   "outputs": [],
   "source": [
    "from sklearn.utils.multiclass import unique_labels"
   ]
  },
  {
   "cell_type": "code",
   "execution_count": 40,
   "metadata": {},
   "outputs": [
    {
     "name": "stdout",
     "output_type": "stream",
     "text": [
      "Матрица ошибок\n",
      "[[ 977    1    0    0    0    0    1    1    0    0]\n",
      " [   0 1129    3    1    0    0    2    0    0    0]\n",
      " [   8    0 1009    1    1    0    0    8    5    0]\n",
      " [   0    1    3  976    1   12    0    4    9    4]\n",
      " [   2    1    0    0  946    0    6    2    0   25]\n",
      " [   4    0    0    9    1  863    7    1    4    3]\n",
      " [   3    3    0    0    1    3  948    0    0    0]\n",
      " [   2   10    4    0    1    0    0  998    0   13]\n",
      " [   7    1    2    9    3    3    5    4  936    4]\n",
      " [   7    7    2    5    7    3    1    4    3  970]]\n"
     ]
    },
    {
     "data": {
      "text/plain": [
       "<matplotlib.axes._subplots.AxesSubplot at 0x1a19104208>"
      ]
     },
     "execution_count": 40,
     "metadata": {},
     "output_type": "execute_result"
    },
    {
     "data": {
      "image/png": "[encoded data removed]",
      "text/plain": [
       "<Figure size 432x288 with 2 Axes>"
      ]
     },
     "metadata": {
      "needs_background": "light"
     },
     "output_type": "display_data"
    }
   ],
   "source": [
    " plot_confusion_matrix(testy, pred, classes=np.array(range(10)))\n"
   ]
  },
  {
   "cell_type": "code",
   "execution_count": 325,
   "metadata": {},
   "outputs": [],
   "source": [
    "df = pd.DataFrame(cm, columns=list(range(10)))\n",
    "df.to_csv(\"conf.csv\")"
   ]
  },
  {
   "cell_type": "code",
   "execution_count": 13,
   "metadata": {},
   "outputs": [],
   "source": [
    "import scipy.ndimage"
   ]
  },
  {
   "cell_type": "code",
   "execution_count": 14,
   "metadata": {},
   "outputs": [
    {
     "data": {
      "text/plain": [
       "(34, 34)"
      ]
     },
     "execution_count": 14,
     "metadata": {},
     "output_type": "execute_result"
    }
   ],
   "source": [
    "train_img = trainX.reshape(-1, 28, 28)\n",
    "scipy.ndimage.rotate(train_img[0], angle=15).shape"
   ]
  },
  {
   "cell_type": "code",
   "execution_count": 15,
   "metadata": {},
   "outputs": [],
   "source": [
    "def transform(images, angle, roll_val, roll_axis, sigma):\n",
    "    res = scipy.ndimage.rotate(images, angle=angle, axes = (1, 2))\n",
    "    res = np.roll(res, roll_val, axis=roll_axis)\n",
    "    res = scipy.ndimage.gaussian_filter(res, sigma=(0, sigma, sigma))\n",
    "    return res"
   ]
  },
  {
   "cell_type": "code",
   "execution_count": 16,
   "metadata": {},
   "outputs": [],
   "source": [
    "from tqdm import tqdm_notebook as tqdm"
   ]
  },
  {
   "cell_type": "code",
   "execution_count": 81,
   "metadata": {},
   "outputs": [
    {
     "data": {
      "application/vnd.jupyter.widget-view+json": {
       "model_id": "554a461845154232981f3a8af5bbd405",
       "version_major": 2,
       "version_minor": 0
      },
      "text/plain": [
       "HBox(children=(IntProgress(value=0, max=6), HTML(value='')))"
      ]
     },
     "metadata": {},
     "output_type": "display_data"
    },
    {
     "name": "stdout",
     "output_type": "stream",
     "text": [
      "CPU times: user 26min 7s, sys: 2min 20s, total: 28min 27s\n",
      "Wall time: 19min 18s\n"
     ]
    }
   ],
   "source": [
    "%%time\n",
    "data4 = []\n",
    "for angle in tqdm([-15, -10, -5, 5, 10, 15]):\n",
    "    i = abs(angle) // 5\n",
    "    transformed = transform(train_img, angle=angle, roll_val=0, roll_axis=1, sigma=0)[:, i:-i, i:-i]\n",
    "    transformed = transformed.reshape(-1, transformed.shape[1] * transformed.shape[2])\n",
    "    cv = kfold(len(trainy), 3)\n",
    "    cv1 = []\n",
    "    for tr, tes in cv:\n",
    "        cv1.append((np.append(tr, tr + 60000), tes))    \n",
    "    res1 = knn_cross_val_score(np.append(trainX, transformed, axis=0), np.append(trainy, trainy), [5], \"accuracy\",\n",
    "                               cv1, strategy = \"brute\", metric=\"euclidean\", weights=True, test_block_size=100)\n",
    "    for key in res1.keys():\n",
    "        data4.append([angle, np.mean(res1[key])])"
   ]
  },
  {
   "cell_type": "markdown",
   "metadata": {},
   "source": [
    "Лучшее: угол -5, сдвиг по оси 1 1,сигма 1"
   ]
  },
  {
   "cell_type": "code",
   "execution_count": null,
   "metadata": {},
   "outputs": [],
   "source": [
    "data4 = []\n",
    "for angle in tqdm([-15, -10, -5, 0, 5, 10, 15]):\n",
    "    for shift_px in tqdm([-3, -2, -1, 0, 1, 2, 3]):\n",
    "        for shift_axis in tqdm([1, 2]):\n",
    "            for sigma in tqdm([0, 0.5, 1, 1.5]):\n",
    "                transformed = transform(train_img, angle, shift_px, shift_axis, sigma)\n",
    "                transformed = transformed.reshape(-1, transformed.shape[1] * transformed.shape[2])\n",
    "                res1 = knn_cross_val_score(transformed, trainy, [5], \"accuracy\", None,\n",
    "                                           strategy = \"brute\", metric=\"euclidean\", weights=True, test_block_size=100)\n",
    "                for key in res1.keys():\n",
    "                    data4.append([angle, shift_px, shift_axis, sigma, np.mean(res1[key])])"
   ]
  },
  {
   "cell_type": "code",
   "execution_count": 42,
   "metadata": {},
   "outputs": [],
   "source": [
    "transformed = transform(train_img, angle=-5, roll_val=1, roll_axis=1, sigma=1)[:, 1:29, 1:29]\n",
    "transformed = transformed.reshape(-1, transformed.shape[1] * transformed.shape[2])\n",
    "new_X = np.append(trainX, transformed, axis=0)\n",
    "transformed = transform(train_img, angle=-5, roll_val=0, roll_axis=1, sigma=1)[:, 1:29, 1:29]\n",
    "transformed = transformed.reshape(-1, transformed.shape[1] * transformed.shape[2])\n",
    "new_X = np.append(new_X, transformed, axis=0)\n",
    "transformed = transform(train_img, angle=-5, roll_val=0, roll_axis=1, sigma=0)[:, 1:29, 1:29]\n",
    "transformed = transformed.reshape(-1, transformed.shape[1] * transformed.shape[2])\n",
    "new_X = np.append(new_X, transformed, axis=0)\n",
    "transformed = transform(train_img, angle=0, roll_val=0, roll_axis=1, sigma=1)\n",
    "transformed = transformed.reshape(-1, transformed.shape[1] * transformed.shape[2])\n",
    "new_X = np.append(new_X, transformed, axis=0)\n",
    "new_y = np.append(trainy, trainy)\n",
    "new_y = np.append(new_y, new_y)\n",
    "new_y = np.append(new_y, trainy)"
   ]
  },
  {
   "cell_type": "code",
   "execution_count": 43,
   "metadata": {},
   "outputs": [],
   "source": [
    "a = KNNClassifier(k=4, strategy=\"brute\", metric=\"cosine\", weights=True, test_block_size=100)\n",
    "a.fit(new_X, new_y)"
   ]
  },
  {
   "cell_type": "code",
   "execution_count": 44,
   "metadata": {},
   "outputs": [
    {
     "data": {
      "text/plain": [
       "0.9831"
      ]
     },
     "execution_count": 44,
     "metadata": {},
     "output_type": "execute_result"
    }
   ],
   "source": [
    "pred1 = a.predict(testX)\n",
    "accuracy(pred1, testy)"
   ]
  },
  {
   "cell_type": "code",
   "execution_count": 45,
   "metadata": {},
   "outputs": [
    {
     "data": {
      "text/plain": [
       "array([[ 978,    0,    0,    0,    0,    0,    1,    1,    0,    0],\n",
       "       [   0, 1131,    3,    0,    0,    0,    1,    0,    0,    0],\n",
       "       [   3,    2, 1013,    2,    1,    0,    1,   10,    0,    0],\n",
       "       [   0,    0,    2,  990,    1,    6,    0,    4,    6,    1],\n",
       "       [   0,    1,    0,    0,  964,    0,    4,    0,    0,   13],\n",
       "       [   1,    1,    0,    5,    1,  874,    7,    1,    0,    2],\n",
       "       [   3,    3,    0,    0,    1,    2,  949,    0,    0,    0],\n",
       "       [   1,    8,    5,    2,    2,    0,    0,  999,    0,   11],\n",
       "       [   1,    0,    2,    4,    3,    4,    6,    3,  948,    3],\n",
       "       [   2,    4,    0,    1,    6,    3,    1,    5,    2,  985]])"
      ]
     },
     "execution_count": 45,
     "metadata": {},
     "output_type": "execute_result"
    }
   ],
   "source": [
    "cm1 = confusion_matrix(testy, pred1, labels=list(range(10)))\n",
    "cm1"
   ]
  },
  {
   "cell_type": "code",
   "execution_count": 46,
   "metadata": {},
   "outputs": [
    {
     "name": "stdout",
     "output_type": "stream",
     "text": [
      "Матрица ошибок\n",
      "[[ 978    0    0    0    0    0    1    1    0    0]\n",
      " [   0 1131    3    0    0    0    1    0    0    0]\n",
      " [   3    2 1013    2    1    0    1   10    0    0]\n",
      " [   0    0    2  990    1    6    0    4    6    1]\n",
      " [   0    1    0    0  964    0    4    0    0   13]\n",
      " [   1    1    0    5    1  874    7    1    0    2]\n",
      " [   3    3    0    0    1    2  949    0    0    0]\n",
      " [   1    8    5    2    2    0    0  999    0   11]\n",
      " [   1    0    2    4    3    4    6    3  948    3]\n",
      " [   2    4    0    1    6    3    1    5    2  985]]\n"
     ]
    },
    {
     "data": {
      "text/plain": [
       "<matplotlib.axes._subplots.AxesSubplot at 0x1a191fce80>"
      ]
     },
     "execution_count": 46,
     "metadata": {},
     "output_type": "execute_result"
    },
    {
     "data": {
      "image/png": "[encoded data removed]",
      "text/plain": [
       "<Figure size 432x288 with 2 Axes>"
      ]
     },
     "metadata": {
      "needs_background": "light"
     },
     "output_type": "display_data"
    }
   ],
   "source": [
    " plot_confusion_matrix(testy, pred1, classes=np.array(range(10)))"
   ]
  },
  {
   "cell_type": "code",
   "execution_count": 26,
   "metadata": {},
   "outputs": [],
   "source": [
    "a = KNNClassifier(k=4, strategy=\"brute\", metric=\"cosine\", weights=True, test_block_size=100)\n",
    "a.fit(trainX, trainy)\n"
   ]
  },
  {
   "cell_type": "code",
   "execution_count": 27,
   "metadata": {},
   "outputs": [],
   "source": [
    "test_img = testX.reshape(-1, 28, 28)"
   ]
  },
  {
   "cell_type": "code",
   "execution_count": 28,
   "metadata": {},
   "outputs": [],
   "source": [
    "dist_base, ind_base = a.find_kneighbors(testX, True)"
   ]
  },
  {
   "cell_type": "code",
   "execution_count": 152,
   "metadata": {},
   "outputs": [
    {
     "data": {
      "application/vnd.jupyter.widget-view+json": {
       "model_id": "c7b03b1f243846ec9f614b3649307684",
       "version_major": 2,
       "version_minor": 0
      },
      "text/plain": [
       "HBox(children=(IntProgress(value=0, max=6), HTML(value='')))"
      ]
     },
     "metadata": {},
     "output_type": "display_data"
    },
    {
     "name": "stdout",
     "output_type": "stream",
     "text": [
      "CPU times: user 3min 11s, sys: 19.9 s, total: 3min 31s\n",
      "Wall time: 2min 26s\n"
     ]
    }
   ],
   "source": [
    "%%time\n",
    "data4 = []\n",
    "for angle in tqdm([-15, -10, -5, 5, 10, 15]):\n",
    "    i = abs(angle) // 5\n",
    "    transformed = transform(test_img, angle=angle, roll_val=0, roll_axis=1, sigma=0)[:, i:-i, i:-i]\n",
    "    transformed = transformed.reshape(-1, transformed.shape[1] * transformed.shape[2])\n",
    "    dist_tr, ind_tr = a.find_kneighbors(transformed, True)\n",
    "    dist = np.append(dist_base, dist_tr, axis=1)\n",
    "    ind_ind = np.argsort(dist, axis=1)\n",
    "    dist = np.sort(dist, axis=1)[:, :5]\n",
    "    ind = np.append(ind_base, ind_tr, axis=1)\n",
    "    weights = np.ones_like(dist, dtype=float)\n",
    "    weights = 1 / (dist + 1e-5)\n",
    "    res = np.array([])\n",
    "    for r in range(ind.shape[0]):\n",
    "        ind_str = ind[r]\n",
    "        ind_mask = ind_ind[r]\n",
    "        res = np.append(res, np.bincount(trainy[ind_str[ind_mask][:5]], weights=weights[r]).argmax())            \n",
    "    pred1 = res.astype(int)\n",
    "    data4.append([angle, accuracy(pred1, testy)])"
   ]
  },
  {
   "cell_type": "code",
   "execution_count": 175,
   "metadata": {},
   "outputs": [
    {
     "data": {
      "application/vnd.jupyter.widget-view+json": {
       "model_id": "8afe17f06b1b429591a93ffba1090d6c",
       "version_major": 2,
       "version_minor": 0
      },
      "text/plain": [
       "HBox(children=(IntProgress(value=0, max=2), HTML(value='')))"
      ]
     },
     "metadata": {},
     "output_type": "display_data"
    },
    {
     "data": {
      "application/vnd.jupyter.widget-view+json": {
       "model_id": "de35eb7cb5794efb8d6982365cf837f9",
       "version_major": 2,
       "version_minor": 0
      },
      "text/plain": [
       "HBox(children=(IntProgress(value=0, max=7), HTML(value='')))"
      ]
     },
     "metadata": {},
     "output_type": "display_data"
    },
    {
     "data": {
      "application/vnd.jupyter.widget-view+json": {
       "model_id": "d52675fa43174727a6638558103bffc5",
       "version_major": 2,
       "version_minor": 0
      },
      "text/plain": [
       "HBox(children=(IntProgress(value=0, max=7), HTML(value='')))"
      ]
     },
     "metadata": {},
     "output_type": "display_data"
    },
    {
     "name": "stdout",
     "output_type": "stream",
     "text": [
      "CPU times: user 7min 13s, sys: 43.3 s, total: 7min 57s\n",
      "Wall time: 5min 26s\n"
     ]
    }
   ],
   "source": [
    "%%time\n",
    "data4 = []\n",
    "for shift_axis in tqdm([1, 2]):\n",
    "    for shift_px in tqdm([-3, -2, -1, 0, 1, 2, 3]):\n",
    "        \n",
    "        i = abs(angle) // 5\n",
    "        transformed = transform(test_img, angle=0, roll_val=shift_px, roll_axis=shift_axis, sigma=0)\n",
    "        transformed = transformed.reshape(-1, transformed.shape[1] * transformed.shape[2])\n",
    "        dist_tr, ind_tr = a.find_kneighbors(transformed, True)\n",
    "        dist = np.append(dist_base, dist_tr, axis=1)\n",
    "        ind_ind = np.argsort(dist, axis=1)\n",
    "        dist = np.sort(dist, axis=1)[:, :5]\n",
    "        ind = np.append(ind_base, ind_tr, axis=1)\n",
    "        weights = np.ones_like(dist, dtype=float)\n",
    "        weights = 1 / (dist + 1e-5)\n",
    "        res = np.array([])\n",
    "        for r in range(ind.shape[0]):\n",
    "            ind_str = ind[r]\n",
    "            ind_mask = ind_ind[r]\n",
    "            res = np.append(res, np.bincount(trainy[ind_str[ind_mask][:5]], weights=weights[r]).argmax())            \n",
    "        pred1 = res.astype(int)\n",
    "        data4.append([shift_axis, shift_px, accuracy(pred1, testy)])"
   ]
  },
  {
   "cell_type": "code",
   "execution_count": 178,
   "metadata": {},
   "outputs": [],
   "source": [
    "df = pd.DataFrame(data4, columns=[\"shaift_axis\", \"shift_px\", \"accuracy\"])\n",
    "df[\"accuracy\"] = df[\"accuracy\"].round(4)\n",
    "df.to_csv(\"test_trans_shift.csv\", index=False)"
   ]
  },
  {
   "cell_type": "markdown",
   "metadata": {},
   "source": [
    "сдвиг 1 1. угол сигма 0 угол -10"
   ]
  },
  {
   "cell_type": "code",
   "execution_count": 29,
   "metadata": {},
   "outputs": [],
   "source": [
    "transformed = transform(test_img, angle=0, roll_val=1, roll_axis=1, sigma=0)\n",
    "transformed = transformed.reshape(-1, transformed.shape[1] * transformed.shape[2])\n",
    "dist_tr, ind_tr = a.find_kneighbors(transformed, True)\n",
    "dist = np.append(dist_base, dist_tr, axis=1)\n",
    "ind = np.append(ind_base, ind_tr, axis=1)\n",
    "\n",
    "transformed = transform(test_img, angle=-10, roll_val=0, roll_axis=1, sigma=0)[:, 2:30, 2:30]\n",
    "transformed = transformed.reshape(-1, transformed.shape[1] * transformed.shape[2])\n",
    "dist_tr, ind_tr = a.find_kneighbors(transformed, True)\n",
    "dist = np.append(dist, dist_tr, axis=1)\n",
    "ind = np.append(ind, ind_tr, axis=1)\n",
    "\n",
    "transformed = transform(test_img, angle=-10, roll_val=1, roll_axis=1, sigma=0)[:, 2:30, 2:30]\n",
    "transformed = transformed.reshape(-1, transformed.shape[1] * transformed.shape[2])\n",
    "dist_tr, ind_tr = a.find_kneighbors(transformed, True)\n",
    "dist = np.append(dist, dist_tr, axis=1)\n",
    "ind = np.append(ind, ind_tr, axis=1)\n",
    "\n",
    "\n",
    "\n",
    "ind_ind = np.argsort(dist, axis=1)\n",
    "dist = np.sort(dist, axis=1)[:, :5]\n",
    "weights = np.ones_like(dist, dtype=float)\n",
    "weights = 1 / (dist + 1e-5)\n",
    "\n",
    "        "
   ]
  },
  {
   "cell_type": "code",
   "execution_count": 197,
   "metadata": {},
   "outputs": [
    {
     "data": {
      "text/plain": [
       "(10000, 20)"
      ]
     },
     "execution_count": 197,
     "metadata": {},
     "output_type": "execute_result"
    }
   ],
   "source": [
    "ind_ind.shape"
   ]
  },
  {
   "cell_type": "code",
   "execution_count": 30,
   "metadata": {},
   "outputs": [],
   "source": [
    "res = np.array([])\n",
    "for r in range(ind.shape[0]):\n",
    "    ind_str = ind[r]\n",
    "    ind_mask = ind_ind[r]\n",
    "    res = np.append(res, np.bincount(trainy[ind_str[ind_mask][:5]], weights=weights[r]).argmax())            \n",
    "pred1 = res.astype(int)"
   ]
  },
  {
   "cell_type": "code",
   "execution_count": 31,
   "metadata": {},
   "outputs": [
    {
     "data": {
      "text/plain": [
       "0.9803"
      ]
     },
     "execution_count": 31,
     "metadata": {},
     "output_type": "execute_result"
    }
   ],
   "source": [
    "accuracy(pred1, testy)"
   ]
  },
  {
   "cell_type": "code",
   "execution_count": 37,
   "metadata": {},
   "outputs": [
    {
     "name": "stdout",
     "output_type": "stream",
     "text": [
      "Матрица ошибок\n",
      "[[ 977    1    0    0    0    0    1    1    0    0]\n",
      " [   0 1133    2    0    0    0    0    0    0    0]\n",
      " [   9    0 1005    0    0    0    0   14    4    0]\n",
      " [   0    0    1  985    1    6    0    5    7    5]\n",
      " [   2    2    0    0  946    0    6    2    1   23]\n",
      " [   5    0    0    9    1  867    2    1    5    2]\n",
      " [   4    3    0    0    0    2  947    0    2    0]\n",
      " [   1    3    4    0    0    1    0 1014    0    5]\n",
      " [   4    0    1    6    2    2    0    5  950    4]\n",
      " [   7    3    2    2    2    3    0    9    2  979]]\n"
     ]
    },
    {
     "data": {
      "text/plain": [
       "<matplotlib.axes._subplots.AxesSubplot at 0x1a18eda828>"
      ]
     },
     "execution_count": 37,
     "metadata": {},
     "output_type": "execute_result"
    },
    {
     "data": {
      "image/png": "[encoded data removed]",
      "text/plain": [
       "<Figure size 432x288 with 2 Axes>"
      ]
     },
     "metadata": {
      "needs_background": "light"
     },
     "output_type": "display_data"
    }
   ],
   "source": [
    " plot_confusion_matrix(testy, pred1, classes=np.array(range(10)))"
   ]
  },
  {
   "cell_type": "code",
   "execution_count": null,
   "metadata": {},
   "outputs": [],
   "source": []
  }
 ],
 "metadata": {
  "kernelspec": {
   "display_name": "Python 3",
   "language": "python",
   "name": "python3"
  },
  "language_info": {
   "codemirror_mode": {
    "name": "ipython",
    "version": 3
   },
   "file_extension": ".py",
   "mimetype": "text/x-python",
   "name": "python",
   "nbconvert_exporter": "python",
   "pygments_lexer": "ipython3",
   "version": "3.7.3"
  }
 },
 "nbformat": 4,
 "nbformat_minor": 2
}
